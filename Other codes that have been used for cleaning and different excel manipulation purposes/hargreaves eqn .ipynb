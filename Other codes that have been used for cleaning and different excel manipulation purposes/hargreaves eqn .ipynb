{
 "cells": [
  {
   "cell_type": "code",
   "execution_count": 9,
   "id": "5cd5183a",
   "metadata": {
    "scrolled": true
   },
   "outputs": [
    {
     "name": "stdout",
     "output_type": "stream",
     "text": [
      "AWD data saved to C:\\Users\\Acer\\Desktop\\AWD\\station 402\\output_awd_{station_prefix}.csv\n"
     ]
    }
   ],
   "source": [
    "import pandas as pd\n",
    "\n",
    "# Hargreaves equation function simplified\n",
    "def calculate_hargreaves_et(tmax, tmin):\n",
    "    tmean = (tmax + tmin) / 2\n",
    "    Ra = 15  # Assuming a constant value for Ra\n",
    "    ET = 0.0023 * Ra  * (tmean + 17.8) * ((tmax - tmin) ** 0.5)\n",
    "    return ET\n",
    "\n",
    "# Function to process one station's data\n",
    "def process_station(file_path, station_prefix):\n",
    "    # Load the data\n",
    "    data = pd.read_csv(r'C:\\Users\\Acer\\Desktop\\AWD\\station 402\\petfile_402.csv', parse_dates=['date'])\n",
    "    \n",
    "    # Calculate ET using the Hargreaves equation for each day\n",
    "    data['ET'] = data.apply(lambda row: calculate_hargreaves_et(row[f'{station_prefix}_tmax'], row[f'{station_prefix}_tmin']), axis=1)\n",
    "    \n",
    "    # Resample to weekly data, summing precipitation and ET\n",
    "    weekly_data = data.resample('W', on='date').sum()\n",
    "    \n",
    "    # Calculate AWD for each week\n",
    "    weekly_data['AWD'] = weekly_data[f'{station_prefix}_ppt'] - weekly_data['ET']\n",
    "    \n",
    "    # Save the weekly AWD data to a new CSV file\n",
    "    output_file = r'C:\\Users\\Acer\\Desktop\\AWD\\station 402\\output_awd_{station_prefix}.csv'  # Change this path\n",
    "    weekly_data.to_csv(output_file, columns=['AWD'])\n",
    "    print(f'AWD data saved to {output_file}')\n",
    "\n",
    "# Example usage for Station 203\n",
    "file_path_402 = r'C:\\Users\\Acer\\Desktop\\AWD\\station 402\\petfile_402.csv'  # Change this path\n",
    "process_station(file_path_402, 'st402')\n",
    "\n",
    "# Repeat for other stations by changing `file_path_203` and `'st203'` accordingly\n",
    "\n",
    "\n"
   ]
  },
  {
   "cell_type": "code",
   "execution_count": null,
   "id": "df53d279",
   "metadata": {},
   "outputs": [],
   "source": [
    "# Process data for each station\n",
    "station_files = {\n",
    "    '203': 'C:\\Users\\Acer\\Desktop\\AWD\\station 203/petfile_203.csv', # Update path accordingly\n",
    "    '307': 'C:\\Users\\Acer\\Desktop\\AWD\\station 307/petfile_307.csv',\n",
    "    '311': 'C:\\Users\\Acer\\Desktop\\AWD\\station 311/petfile_311.csv',\n",
    "    '402': 'C:\\Users\\Acer\\Desktop\\AWD\\station 402/petfile_402.csv'\n",
    "}"
   ]
  }
 ],
 "metadata": {
  "kernelspec": {
   "display_name": "Python 3 (ipykernel)",
   "language": "python",
   "name": "python3"
  },
  "language_info": {
   "codemirror_mode": {
    "name": "ipython",
    "version": 3
   },
   "file_extension": ".py",
   "mimetype": "text/x-python",
   "name": "python",
   "nbconvert_exporter": "python",
   "pygments_lexer": "ipython3",
   "version": "3.11.3"
  }
 },
 "nbformat": 4,
 "nbformat_minor": 5
}
