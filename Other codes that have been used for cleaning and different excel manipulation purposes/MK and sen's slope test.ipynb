{
 "cells": [
  {
   "cell_type": "code",
   "execution_count": 11,
   "id": "34aa76db",
   "metadata": {},
   "outputs": [
    {
     "name": "stdout",
     "output_type": "stream",
     "text": [
      "Significant trend is detected\n",
      "Tau: 0.4859335038363171\n",
      "P-value: 3.5339842800909968e-09\n"
     ]
    },
    {
     "ename": "TypeError",
     "evalue": "unsupported operand type(s) for -: 'str' and 'str'",
     "output_type": "error",
     "traceback": [
      "\u001b[1;31m---------------------------------------------------------------------------\u001b[0m",
      "\u001b[1;31mTypeError\u001b[0m                                 Traceback (most recent call last)",
      "Cell \u001b[1;32mIn[11], line 23\u001b[0m\n\u001b[0;32m     21\u001b[0m values \u001b[38;5;241m=\u001b[39m df[\u001b[38;5;124m'\u001b[39m\u001b[38;5;124mSWDI\u001b[39m\u001b[38;5;124m'\u001b[39m]\n\u001b[0;32m     22\u001b[0m n \u001b[38;5;241m=\u001b[39m \u001b[38;5;28mlen\u001b[39m(df)\n\u001b[1;32m---> 23\u001b[0m slopes \u001b[38;5;241m=\u001b[39m [(values[j] \u001b[38;5;241m-\u001b[39m values[i]) \u001b[38;5;241m/\u001b[39m (time[j] \u001b[38;5;241m-\u001b[39m time[i]) \n\u001b[0;32m     24\u001b[0m           \u001b[38;5;28;01mfor\u001b[39;00m i \u001b[38;5;129;01min\u001b[39;00m \u001b[38;5;28mrange\u001b[39m(n) \u001b[38;5;28;01mfor\u001b[39;00m j \u001b[38;5;129;01min\u001b[39;00m \u001b[38;5;28mrange\u001b[39m(i \u001b[38;5;241m+\u001b[39m \u001b[38;5;241m1\u001b[39m, n)]\n\u001b[0;32m     25\u001b[0m sens_slope \u001b[38;5;241m=\u001b[39m np\u001b[38;5;241m.\u001b[39mmedian(slopes)\n\u001b[0;32m     27\u001b[0m \u001b[38;5;28mprint\u001b[39m(\u001b[38;5;124m\"\u001b[39m\u001b[38;5;124mSen\u001b[39m\u001b[38;5;124m'\u001b[39m\u001b[38;5;124ms Slope:\u001b[39m\u001b[38;5;124m\"\u001b[39m, sens_slope)\n",
      "Cell \u001b[1;32mIn[11], line 23\u001b[0m, in \u001b[0;36m<listcomp>\u001b[1;34m(.0)\u001b[0m\n\u001b[0;32m     21\u001b[0m values \u001b[38;5;241m=\u001b[39m df[\u001b[38;5;124m'\u001b[39m\u001b[38;5;124mSWDI\u001b[39m\u001b[38;5;124m'\u001b[39m]\n\u001b[0;32m     22\u001b[0m n \u001b[38;5;241m=\u001b[39m \u001b[38;5;28mlen\u001b[39m(df)\n\u001b[1;32m---> 23\u001b[0m slopes \u001b[38;5;241m=\u001b[39m [(values[j] \u001b[38;5;241m-\u001b[39m values[i]) \u001b[38;5;241m/\u001b[39m (time[j] \u001b[38;5;241m-\u001b[39m time[i]) \n\u001b[0;32m     24\u001b[0m           \u001b[38;5;28;01mfor\u001b[39;00m i \u001b[38;5;129;01min\u001b[39;00m \u001b[38;5;28mrange\u001b[39m(n) \u001b[38;5;28;01mfor\u001b[39;00m j \u001b[38;5;129;01min\u001b[39;00m \u001b[38;5;28mrange\u001b[39m(i \u001b[38;5;241m+\u001b[39m \u001b[38;5;241m1\u001b[39m, n)]\n\u001b[0;32m     25\u001b[0m sens_slope \u001b[38;5;241m=\u001b[39m np\u001b[38;5;241m.\u001b[39mmedian(slopes)\n\u001b[0;32m     27\u001b[0m \u001b[38;5;28mprint\u001b[39m(\u001b[38;5;124m\"\u001b[39m\u001b[38;5;124mSen\u001b[39m\u001b[38;5;124m'\u001b[39m\u001b[38;5;124ms Slope:\u001b[39m\u001b[38;5;124m\"\u001b[39m, sens_slope)\n",
      "\u001b[1;31mTypeError\u001b[0m: unsupported operand type(s) for -: 'str' and 'str'"
     ]
    }
   ],
   "source": [
    "import pandas as pd\n",
    "import numpy as np\n",
    "from scipy.stats import kendalltau\n",
    "\n",
    "# Load your CSV file\n",
    "df = pd.read_csv('C:\\\\Users\\\\Acer\\\\Desktop\\\\shishir\\\\HILLY\\\\swdi\\\\average_swdi hilly.csv')\n",
    "\n",
    "# Sort the data by the time column\n",
    "df = df.sort_values('date')\n",
    "\n",
    "# Mann-Kendall Test\n",
    "tau, p_value = kendalltau(df['date'], df['SWDI'])\n",
    "print(\"Mann-Kendall Test Results\")\n",
    "print(\"Tau:\", tau)\n",
    "print(\"P-value:\", p_value)\n",
    "\n",
    "# Sen's Slope\n",
    "if p_value < 0.05:\n",
    "    # Perform Sen's Slope calculation if the trend is significant\n",
    "    time = df['date']\n",
    "    values = df['SWDI']\n",
    "    n = len(df)\n",
    "    slopes = [(values[j] - values[i]) / (time[j] - time[i]) \n",
    "              for i in range(n) for j in range(i + 1, n)]\n",
    "    sens_slope = np.median(slopes)\n",
    "   \n",
    "    print(\"Sen's Slope:\", sens_slope)\n",
    "else:\n",
    "    print(\"No significant trend detected. Sen's Slope calculation is not performed.\")\n"
   ]
  }
 ],
 "metadata": {
  "kernelspec": {
   "display_name": "Python 3 (ipykernel)",
   "language": "python",
   "name": "python3"
  },
  "language_info": {
   "codemirror_mode": {
    "name": "ipython",
    "version": 3
   },
   "file_extension": ".py",
   "mimetype": "text/x-python",
   "name": "python",
   "nbconvert_exporter": "python",
   "pygments_lexer": "ipython3",
   "version": "3.11.3"
  }
 },
 "nbformat": 4,
 "nbformat_minor": 5
}
